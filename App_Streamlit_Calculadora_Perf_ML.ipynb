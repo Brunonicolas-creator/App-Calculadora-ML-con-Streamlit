{
  "cells": [
    {
      "cell_type": "markdown",
      "metadata": {
        "id": "view-in-github",
        "colab_type": "text"
      },
      "source": [
        "<a href=\"https://colab.research.google.com/github/Brunonicolas-creator/App-Calculadora-ML-con-Streamlit/blob/main/App_Streamlit_Calculadora_Perf_ML.ipynb\" target=\"_parent\"><img src=\"https://colab.research.google.com/assets/colab-badge.svg\" alt=\"Open In Colab\"/></a>"
      ]
    },
    {
      "cell_type": "code",
      "execution_count": null,
      "metadata": {
        "id": "Le6WIba2FUn1"
      },
      "outputs": [],
      "source": [
        "!pip install streamlit"
      ]
    },
    {
      "cell_type": "code",
      "execution_count": 2,
      "metadata": {
        "colab": {
          "base_uri": "https://localhost:8080/"
        },
        "id": "_Rno9EjRFWg-",
        "outputId": "66b8e63e-c423-4457-bedf-093a12f4c52c"
      },
      "outputs": [
        {
          "output_type": "stream",
          "name": "stdout",
          "text": [
            "Writing app.py\n"
          ]
        }
      ],
      "source": [
        "%%writefile app.py\n",
        "import streamlit as st\n",
        "import pandas as pd\n",
        "import base64\n",
        "import PIL\n",
        "from sklearn import datasets\n",
        "from sklearn.ensemble import RandomForestClassifier\n",
        "from sklearn.metrics import confusion_matrix\n",
        "from sklearn.metrics import accuracy_score, balanced_accuracy_score, precision_score, recall_score, matthews_corrcoef, f1_score, cohen_kappa_score\n",
        "import numpy as np\n",
        "from PIL import Image\n",
        "\n",
        "# Calculates performance metrics\n",
        "def calc_metrics(input_data):\n",
        "    Y_actual = input_data.iloc[:,0]\n",
        "    Y_predicted = input_data.iloc[:,1]\n",
        "    acc = accuracy_score(Y_actual, Y_predicted)\n",
        "    balanced_accuracy = balanced_accuracy_score(Y_actual, Y_predicted)\n",
        "    precision = precision_score(Y_actual, Y_predicted, average='weighted')\n",
        "    recall = recall_score(Y_actual, Y_predicted, average='weighted')\n",
        "    mcc = matthews_corrcoef(Y_actual, Y_predicted)\n",
        "    f1 = f1_score(Y_actual, Y_predicted, average='weighted')\n",
        "    cohen_kappa = cohen_kappa_score(Y_actual, Y_predicted)\n",
        "\n",
        "    acc_series = pd.Series(acc, name='Accuracy')\n",
        "    balanced_accuracy_series = pd.Series(balanced_accuracy, name='Balanced_Accuracy')\n",
        "    precision_series = pd.Series(precision, name='Precision')\n",
        "    recall_series = pd.Series(recall, name='Recall')\n",
        "    mcc_series = pd.Series(mcc, name='MCC')\n",
        "    f1_series = pd.Series(f1, name='F1')\n",
        "    cohen_kappa_series = pd.Series(cohen_kappa, name='Cohen_Kappa')\n",
        "\n",
        "    df = pd.concat( [acc_series, balanced_accuracy_series, precision_series,\n",
        "                     recall_series, mcc_series, f1_series, cohen_kappa_series], axis=1 )\n",
        "    return df\n",
        "\n",
        "# Calculates confusion matrix\n",
        "def calc_confusion_matrix(input_data):\n",
        "    Y_actual = input_data.iloc[:,0]\n",
        "    Y_predicted = input_data.iloc[:,1]\n",
        "    confusion_matrix_array = confusion_matrix(Y_actual, Y_predicted)\n",
        "    confusion_matrix_df = pd.DataFrame(confusion_matrix_array, columns=['Actual','Predicted'], index=['Actual','Predicted'])\n",
        "    return confusion_matrix_df\n",
        "\n",
        "# Load example data\n",
        "def load_example_data():\n",
        "    df = pd.read_csv('Y_example.csv')\n",
        "    return df\n",
        "\n",
        "# Download performance metrics\n",
        "def filedownload(df):\n",
        "    csv = df.to_csv(index=False)\n",
        "    b64 = base64.b64encode(csv.encode()).decode()  # strings <-> bytes conversions\n",
        "    href = f'<a href=\"data:file/csv;base64,{b64}\" download=\"performance_metrics.csv\">Download CSV File</a>'\n",
        "    return href\n",
        "\n",
        "# Sidebar - Header\n",
        "st.sidebar.header('Input panel')\n",
        "st.sidebar.markdown(\"\"\"\n",
        "[Example CSV file](https://raw.githubusercontent.com/dataprofessor/model_performance_app/main/Y_example.csv)\n",
        "\"\"\")\n",
        "\n",
        "# Sidebar panel - Upload input file\n",
        "uploaded_file = st.sidebar.file_uploader('Upload your input CSV file', type=['csv'])\n",
        "\n",
        "# Sidebar panel - Performance metrics\n",
        "performance_metrics = ['Accuracy', 'Balanced_Accuracy', 'Precision', 'Recall','MCC', 'F1', 'Cohen_Kappa']\n",
        "selected_metrics = st.sidebar.multiselect('Performance metrics', performance_metrics, performance_metrics)\n",
        "\n",
        "# Main panel\n",
        "image = Image.open('Logo.png')\n",
        "st.image(image, width = 500)\n",
        "st.title('Model Performance Calculator App')\n",
        "st.markdown(\"\"\"\n",
        "This app calculates the model performance metrics given the actual and predicted values.\n",
        "* **Python libraries:** `base64`, `pandas`, `streamlit`, `scikit-learn`\n",
        "\"\"\")\n",
        "\n",
        "if uploaded_file is not None:\n",
        "    input_df = pd.read_csv(uploaded_file)\n",
        "    confusion_matrix_df = calc_confusion_matrix(input_df)\n",
        "    metrics_df = calc_metrics(input_df)\n",
        "    selected_metrics_df = metrics_df[ selected_metrics ]\n",
        "    st.header('Input data')\n",
        "    st.write(input_df)\n",
        "    st.header('Confusion matrix')\n",
        "    st.write(confusion_matrix_df)\n",
        "    st.header('Performance metrics')\n",
        "    st.write(selected_metrics_df)\n",
        "    st.markdown(filedownload(selected_metrics_df), unsafe_allow_html=True)\n",
        "else:\n",
        "    st.info('Awaiting the upload of the input file.')\n",
        "    if st.button('Use Example Data'):\n",
        "        input_df = load_example_data()\n",
        "        confusion_matrix_df = calc_confusion_matrix(input_df)\n",
        "        metrics_df = calc_metrics(input_df)\n",
        "        selected_metrics_df = metrics_df[ selected_metrics ]\n",
        "        st.header('Input data')\n",
        "        st.write(input_df)\n",
        "        st.header('Confusion matrix')\n",
        "        st.write(confusion_matrix_df)\n",
        "        st.header('Performance metrics')\n",
        "        st.write(selected_metrics_df)\n",
        "        st.markdown(filedownload(selected_metrics_df), unsafe_allow_html=True)"
      ]
    },
    {
      "cell_type": "code",
      "execution_count": null,
      "metadata": {
        "colab": {
          "base_uri": "https://localhost:8080/"
        },
        "id": "IUYlFlUFGCmY",
        "outputId": "03c9b96d-2b49-441b-84d8-690ecd9be283"
      },
      "outputs": [
        {
          "output_type": "stream",
          "name": "stdout",
          "text": [
            "2022-06-01 11:20:24.808 INFO    numexpr.utils: NumExpr defaulting to 2 threads.\n",
            "\u001b[K\u001b[?25hnpx: installed 22 in 5.701s\n",
            "\u001b[0m\n",
            "\u001b[34m\u001b[1m  You can now view your Streamlit app in your browser.\u001b[0m\n",
            "\u001b[0m\n",
            "\u001b[34m  Network URL: \u001b[0m\u001b[1mhttp://172.28.0.2:8501\u001b[0m\n",
            "\u001b[34m  External URL: \u001b[0m\u001b[1mhttp://35.227.28.209:8501\u001b[0m\n",
            "\u001b[0m\n",
            "your url is: https://rare-owls-say-35-227-28-209.loca.lt\n"
          ]
        }
      ],
      "source": [
        "!streamlit run app.py & npx localtunnel --port 8501"
      ]
    }
  ],
  "metadata": {
    "colab": {
      "name": "App Streamlit Calculadora Perf ML.ipynb",
      "provenance": [],
      "authorship_tag": "ABX9TyPl9GPdstK3mW3YVvuVaRA5",
      "include_colab_link": true
    },
    "kernelspec": {
      "display_name": "Python 3",
      "name": "python3"
    },
    "language_info": {
      "name": "python"
    }
  },
  "nbformat": 4,
  "nbformat_minor": 0
}